{
 "cells": [
  {
   "cell_type": "code",
   "execution_count": 1,
   "id": "a085996a-315a-4f88-87d6-de64c890064a",
   "metadata": {},
   "outputs": [],
   "source": [
    "# 📦 Importations\n",
    "import torch\n",
    "import torch.nn as nn\n",
    "from torch.utils.data import DataLoader\n",
    "from torchvision import datasets, transforms, models\n",
    "import matplotlib.pyplot as plt\n",
    "import numpy as np\n",
    "import os\n",
    "from torch.utils.data import WeightedRandomSampler"
   ]
  },
  {
   "cell_type": "code",
   "execution_count": 2,
   "id": "eccc4b1f-2379-413d-8ba4-05315c28854c",
   "metadata": {},
   "outputs": [],
   "source": [
    "# 📂 Préparer les données\n",
    "data_dir = \"../data/raw/chest_Xray/test\"\n",
    "\n",
    "transform = transforms.Compose([\n",
    "    transforms.Resize((224, 224)),\n",
    "    transforms.RandomHorizontalFlip(),\n",
    "    transforms.RandomRotation(10),\n",
    "    transforms.ToTensor(),\n",
    "])\n",
    "\n",
    "# Dataset\n",
    "train_dataset = datasets.ImageFolder(root=\"../data/raw/chest_Xray/train\", transform=transform)\n",
    "test_dataset = datasets.ImageFolder(root=\"../data/raw/chest_Xray/test\", transform=transform)\n",
    "val_dataset = datasets.ImageFolder(root=\"../data/raw/chest_Xray/val\", transform=transform)\n",
    "\n",
    "# train\n",
    "class_counts = [train_dataset.targets.count(0), train_dataset.targets.count(1)]\n",
    "class_weights = 1. / np.array(class_counts)\n",
    "sample_weights = [class_weights[label] for label in train_dataset.targets]\n",
    "sampler = WeightedRandomSampler(sample_weights, num_samples=len(sample_weights), replacement=True)\n",
    "\n",
    "train_loader = DataLoader(train_dataset, batch_size=32, sampler=sampler)\n",
    "\n",
    "# test\n",
    "class_counts = [test_dataset.targets.count(0), test_dataset.targets.count(1)]\n",
    "class_weights = 1. / np.array(class_counts)\n",
    "sample_weights = [class_weights[label] for label in test_dataset.targets]\n",
    "sampler = WeightedRandomSampler(sample_weights, num_samples=len(sample_weights), replacement=True)\n",
    "\n",
    "test_loader = DataLoader(test_dataset, batch_size=32, sampler=sampler)\n",
    "\n",
    "val_loader = DataLoader(val_dataset, batch_size=32, shuffle=False)\n",
    "\n",
    "classes = train_dataset.classes"
   ]
  },
  {
   "cell_type": "code",
   "execution_count": 4,
   "id": "fcc083c1-8d6a-458d-895c-9fca2c88881c",
   "metadata": {},
   "outputs": [],
   "source": [
    "# 🚀 Charger MobileNet pré-entraîné et l'adapter\n",
    "model = models.mobilenet_v2(pretrained=True)\n",
    "model.classifier[1] = nn.Linear(model.last_channel, 2)  # 2 classes : NORMAL et PNEUMONIA\n",
    "\n",
    "device = torch.device(\"cuda\" if torch.cuda.is_available() else \"cpu\")\n",
    "model = model.to(device)"
   ]
  },
  {
   "cell_type": "code",
   "execution_count": 10,
   "id": "19b77ae2-8caf-4723-94e3-a946e5cb9ca9",
   "metadata": {},
   "outputs": [
    {
     "ename": "NameError",
     "evalue": "name 'AutoModelForImageClassification' is not defined",
     "output_type": "error",
     "traceback": [
      "\u001b[31m---------------------------------------------------------------------------\u001b[39m",
      "\u001b[31mNameError\u001b[39m                                 Traceback (most recent call last)",
      "\u001b[36mCell\u001b[39m\u001b[36m \u001b[39m\u001b[32mIn[10]\u001b[39m\u001b[32m, line 3\u001b[39m\n\u001b[32m      1\u001b[39m \u001b[38;5;66;03m# Charger le modèle et l'extracteur\u001b[39;00m\n\u001b[32m----> \u001b[39m\u001b[32m3\u001b[39m model = \u001b[43mAutoModelForImageClassification\u001b[49m.from_pretrained(\u001b[33m\"\u001b[39m\u001b[33mapple/mobilevit-small\u001b[39m\u001b[33m\"\u001b[39m)\n\u001b[32m      5\u001b[39m \u001b[38;5;66;03m# Adapter le classifieur à 2 classes\u001b[39;00m\n\u001b[32m      6\u001b[39m model.classifier = nn.Linear(model.classifier.in_features, \u001b[32m2\u001b[39m)\n",
      "\u001b[31mNameError\u001b[39m: name 'AutoModelForImageClassification' is not defined"
     ]
    }
   ],
   "source": [
    "# Charger le modèle et l'extracteur\n",
    "extractor = AutoFeatureExtractor.from_pretrained(\"apple/mobilevit-small\")\n",
    "model = AutoModelForImageClassification.from_pretrained(\"apple/mobilevit-small\")\n",
    "\n",
    "# Adapter le classifieur à 2 classes\n",
    "model.classifier = nn.Linear(model.classifier.in_features, 2)\n"
   ]
  },
  {
   "cell_type": "code",
   "execution_count": 18,
   "id": "9823b55c-c334-4366-9994-f133dc30eb16",
   "metadata": {},
   "outputs": [],
   "source": [
    "device = torch.device(\"cuda\" if torch.cuda.is_available() else \"cpu\")\n",
    "model = model.to(device)\n",
    "\n",
    "\n",
    "# ⚙️ Définir l'optimiseur et la fonction de perte\n",
    "criterion = nn.CrossEntropyLoss()\n",
    "optimizer = torch.optim.Adam(model.parameters(), lr=0.0001)\n",
    "\n",
    "# Pour suivre Loss et Accuracy\n",
    "train_losses = []\n",
    "train_accuracies = []"
   ]
  },
  {
   "cell_type": "code",
   "execution_count": null,
   "id": "0e34a916-157f-4dd4-b513-5bf588d819c4",
   "metadata": {},
   "outputs": [],
   "source": [
    "# 🏋️ Boucle d'entraînement\n",
    "epochs = 5\n",
    "\n",
    "for epoch in range(epochs):\n",
    "    running_loss = 0.0\n",
    "    correct = 0\n",
    "    total = 0\n",
    "    \n",
    "    model.train()\n",
    "    for inputs, labels in train_loader:\n",
    "        inputs, labels = inputs.to(device), labels.to(device)\n",
    "        \n",
    "        optimizer.zero_grad()\n",
    "        outputs = model(inputs)\n",
    "        loss = criterion(outputs, labels)\n",
    "        loss.backward()\n",
    "        optimizer.step()\n",
    "        \n",
    "        running_loss += loss.item()\n",
    "        _, predicted = torch.max(outputs, 1)\n",
    "        total += labels.size(0)\n",
    "        correct += (predicted == labels).sum().item()\n",
    "    \n",
    "    epoch_loss = running_loss / len(dataloader)\n",
    "    epoch_acc = 100 * correct / total\n",
    "    train_losses.append(epoch_loss)\n",
    "    train_accuracies.append(epoch_acc)\n",
    "    \n",
    "    print(f\"Epoch [{epoch+1}/{epochs}] - Loss: {epoch_loss:.4f} - Accuracy: {epoch_acc:.2f}%\")"
   ]
  },
  {
   "cell_type": "code",
   "execution_count": null,
   "id": "bdb85d23-ac8e-470c-a10e-2bebe36a964c",
   "metadata": {},
   "outputs": [],
   "source": [
    "torch.save(model.state_dict(), \"mobilevit_pneumonia.pth\")\n"
   ]
  }
 ],
 "metadata": {
  "kernelspec": {
   "display_name": "Python 3 (ipykernel)",
   "language": "python",
   "name": "python3"
  },
  "language_info": {
   "codemirror_mode": {
    "name": "ipython",
    "version": 3
   },
   "file_extension": ".py",
   "mimetype": "text/x-python",
   "name": "python",
   "nbconvert_exporter": "python",
   "pygments_lexer": "ipython3",
   "version": "3.12.7"
  }
 },
 "nbformat": 4,
 "nbformat_minor": 5
}
