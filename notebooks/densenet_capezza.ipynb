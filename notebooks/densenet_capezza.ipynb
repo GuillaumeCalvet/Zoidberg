{
 "cells": [
  {
   "cell_type": "code",
   "execution_count": 1,
   "id": "d7cf740b-3e75-4047-8617-d9d0bcc697e4",
   "metadata": {},
   "outputs": [],
   "source": [
    "from transformers import AutoModel\n",
    "import torchxrayvision as xrv\n",
    "from torchvision import datasets, transforms\n",
    "from torch.utils.data import DataLoader, random_split\n",
    "from sklearn.model_selection import KFold\n",
    "from sklearn.metrics import roc_auc_score, accuracy_score, f1_score, confusion_matrix\n",
    "import numpy as np\n",
    "import torch\n",
    "import torch.nn as nn\n",
    "from torch.optim import Adam\n",
    "import torch.nn.functional as F\n",
    "from torch.utils.data import DataLoader, random_split"
   ]
  },
  {
   "cell_type": "code",
   "execution_count": 2,
   "id": "db9375b8-0eef-49da-8af6-2079ef3e075e",
   "metadata": {},
   "outputs": [
    {
     "name": "stdout",
     "output_type": "stream",
     "text": [
      "XRV-DenseNet121-densenet121-res224-chex\n"
     ]
    }
   ],
   "source": [
    "# Charger un modèle DenseNet pré-entraîné sur CheXpert\n",
    "model = xrv.models.DenseNet(weights=\"densenet121-res224-chex\")\n",
    "\n",
    "# Vérification\n",
    "print(model)"
   ]
  },
  {
   "cell_type": "code",
   "execution_count": 3,
   "id": "c1475a20-f745-4b69-a00b-4625c3a1189e",
   "metadata": {},
   "outputs": [],
   "source": [
    "data_dir = \"/home/zoidberg/Zoidberg/data/raw/chest_Xray/test\"\n",
    "\n",
    "transform = transforms.Compose([\n",
    "    transforms.Resize((224, 224)),\n",
    "    transforms.Grayscale(num_output_channels=1),\n",
    "    transforms.ToTensor(),\n",
    "    transforms.Normalize([0.5], [0.5])  # Adapté à xrv.models.DenseNet\n",
    "])\n",
    "\n",
    "full_dataset = datasets.ImageFolder(data_dir, transform=transform)"
   ]
  },
  {
   "cell_type": "code",
   "execution_count": 4,
   "id": "962a5e01-799c-4bad-809e-269e8fb96df9",
   "metadata": {},
   "outputs": [],
   "source": [
    "train_size = int(0.7 * len(full_dataset))\n",
    "val_size = int(0.15 * len(full_dataset))\n",
    "test_size = len(full_dataset) - train_size - val_size\n",
    "\n",
    "train_dataset, val_dataset, test_dataset = random_split(full_dataset, [train_size, val_size, test_size])"
   ]
  },
  {
   "cell_type": "code",
   "execution_count": 5,
   "id": "ac3db895-cf0f-4cd5-b4c9-83c51f8eb2aa",
   "metadata": {},
   "outputs": [],
   "source": [
    "kfold = KFold(n_splits=5, shuffle=True, random_state=42)\n",
    "\n",
    "# Exemple si vous avez les targets : \n",
    "targets = np.array(full_dataset.targets)\n",
    "\n",
    "for train_idx, val_idx in kfold.split(np.arange(len(targets)), targets):\n",
    "    train_subset = torch.utils.data.Subset(full_dataset, train_idx)\n",
    "    val_subset = torch.utils.data.Subset(full_dataset, val_idx)\n",
    "    # Entraînez ici votre modèle sur train_subset et évaluez sur val_subset"
   ]
  },
  {
   "cell_type": "code",
   "execution_count": 6,
   "id": "1f798cca-4f1a-4faf-9857-bd2f3f8d06c4",
   "metadata": {},
   "outputs": [],
   "source": [
    "model = xrv.models.DenseNet(weights=\"densenet121-res224-chex\")\n",
    "for param in model.parameters():\n",
    "    param.requires_grad = False\n",
    "\n",
    "# Supposons que vous ajoutiez une tête binaire pour la pneumonie\n",
    "classifier = nn.Sequential(\n",
    "    nn.Linear(1024, 1),  # 1024 dépend de la sortie de DenseNet\n",
    "    nn.Sigmoid()\n",
    ")\n",
    "model.op_threshs = None  # ← désactive la normalisation interne du modèle\n",
    "model.op_norm = nn.Identity()  # Empêche la normalisation interne\n",
    "model.classifier = classifier  # Ajoute la tête personnalisée"
   ]
  },
  {
   "cell_type": "code",
   "execution_count": 7,
   "id": "3339478e-41b7-4cce-a1bd-6b32d1cee951",
   "metadata": {},
   "outputs": [
    {
     "name": "stdout",
     "output_type": "stream",
     "text": [
      "Warning: Input image does not appear to be normalized correctly. The input image has the range [-1.00,0.99] which doesn't seem to be in the [-1024,1024] range. This warning may be wrong though. Only the first image is tested and we are only using a heuristic in an attempt to save a user from using the wrong normalization.\n"
     ]
    }
   ],
   "source": [
    "train_loader = DataLoader(train_dataset, batch_size=32, shuffle=True)\n",
    "\n",
    "device = torch.device(\"cuda\" if torch.cuda.is_available() else \"cpu\")\n",
    "model.to(device)\n",
    "\n",
    "optimizer = Adam(model.classifier.parameters(), lr=1e-4)\n",
    "\n",
    "for epoch in range(10):\n",
    "    model.train()\n",
    "    for x, y in train_loader:\n",
    "        x = x.to(device)\n",
    "        y = y.float().unsqueeze(1).to(device)\n",
    "        out = model(x)\n",
    "        loss = F.binary_cross_entropy(out, y)\n",
    "        optimizer.zero_grad()\n",
    "        loss.backward()\n",
    "        optimizer.step()"
   ]
  },
  {
   "cell_type": "code",
   "execution_count": 8,
   "id": "bd8821a4-c0fc-4e63-982f-5c3ac1340898",
   "metadata": {
    "scrolled": true
   },
   "outputs": [
    {
     "ename": "NameError",
     "evalue": "name 'val_loader' is not defined",
     "output_type": "error",
     "traceback": [
      "\u001b[31m---------------------------------------------------------------------------\u001b[39m",
      "\u001b[31mNameError\u001b[39m                                 Traceback (most recent call last)",
      "\u001b[36mCell\u001b[39m\u001b[36m \u001b[39m\u001b[32mIn[8]\u001b[39m\u001b[32m, line 6\u001b[39m\n\u001b[32m      3\u001b[39m all_labels = []\n\u001b[32m      5\u001b[39m \u001b[38;5;28;01mwith\u001b[39;00m torch.no_grad():\n\u001b[32m----> \u001b[39m\u001b[32m6\u001b[39m     \u001b[38;5;28;01mfor\u001b[39;00m x, y \u001b[38;5;129;01min\u001b[39;00m \u001b[43mval_loader\u001b[49m:\n\u001b[32m      7\u001b[39m         x = x.to(device)\n\u001b[32m      8\u001b[39m         y = y.to(device)\n",
      "\u001b[31mNameError\u001b[39m: name 'val_loader' is not defined"
     ]
    }
   ],
   "source": [
    "model.eval()\n",
    "all_preds = []\n",
    "all_labels = []\n",
    "\n",
    "with torch.no_grad():\n",
    "    for x, y in val_loader:\n",
    "        x = x.to(device)\n",
    "        y = y.to(device)\n",
    "        outputs = model(x)\n",
    "        preds = outputs.cpu().numpy()\n",
    "        labels = y.cpu().numpy()\n",
    "        all_preds.extend(preds)\n",
    "        all_labels.extend(labels)\n",
    "\n",
    "# Conversion pour AUC et autres\n",
    "all_preds = np.array(all_preds).reshape(-1)\n",
    "all_labels = np.array(all_labels).reshape(-1)\n",
    "\n",
    "print(\"Nombre de batchs dans val_loader :\", len(val_loader))\n",
    "print(\"AUC:\", roc_auc_score(all_labels, all_preds))\n",
    "print(\"Accuracy:\", accuracy_score(all_labels, all_preds > 0.5))\n",
    "print(\"F1-score:\", f1_score(all_labels, all_preds > 0.5))"
   ]
  }
 ],
 "metadata": {
  "kernelspec": {
   "display_name": "Python 3 (ipykernel)",
   "language": "python",
   "name": "python3"
  },
  "language_info": {
   "codemirror_mode": {
    "name": "ipython",
    "version": 3
   },
   "file_extension": ".py",
   "mimetype": "text/x-python",
   "name": "python",
   "nbconvert_exporter": "python",
   "pygments_lexer": "ipython3",
   "version": "3.12.7"
  }
 },
 "nbformat": 4,
 "nbformat_minor": 5
}
