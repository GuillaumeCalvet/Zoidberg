{
 "cells": [
  {
   "cell_type": "code",
   "execution_count": 16,
   "id": "09b3a555-ce66-4f22-8bd4-9b75c027094a",
   "metadata": {},
   "outputs": [],
   "source": [
    "from transformers import AutoFeatureExtractor, AutoModelForImageClassification\n",
    "from PIL import Image\n",
    "import torch\n",
    "import requests"
   ]
  },
  {
   "cell_type": "code",
   "execution_count": 15,
   "id": "b17af284-7a56-4664-b726-4c76182ef41e",
   "metadata": {},
   "outputs": [
    {
     "name": "stderr",
     "output_type": "stream",
     "text": [
      "/home/zoidberg/.local/lib/python3.12/site-packages/transformers/models/vit/feature_extraction_vit.py:28: FutureWarning: The class ViTFeatureExtractor is deprecated and will be removed in version 5 of Transformers. Please use ViTImageProcessor instead.\n",
      "  warnings.warn(\n"
     ]
    },
    {
     "name": "stdout",
     "output_type": "stream",
     "text": [
      "Classe prédite : NORMAL\n"
     ]
    }
   ],
   "source": [
    "# importer une image d'exemple\n",
    "image = Image.open(\"../data/raw/chest_Xray/val/NORMAL/NORMAL2-IM-1430-0001.jpeg\").convert(\"RGB\")\n",
    "\n",
    "\n",
    "# Charge le feature extractor et le modèle\n",
    "extractor = AutoFeatureExtractor.from_pretrained(\"nickmuchi/vit-finetuned-chest-xray-pneumonia\")\n",
    "model = AutoModelForImageClassification.from_pretrained(\"nickmuchi/vit-finetuned-chest-xray-pneumonia\")\n",
    "\n",
    "# Préparation de l'image\n",
    "inputs = extractor(images=image, return_tensors=\"pt\")\n",
    "\n",
    "# Prédiction\n",
    "with torch.no_grad():\n",
    "    outputs = model(**inputs)\n",
    "    logits = outputs.logits\n",
    "    predicted_class_idx = logits.argmax(-1).item()\n",
    "\n",
    "# Affichage de la classe prédite\n",
    "print(\"Classe prédite :\", model.config.id2label[predicted_class_idx])\n"
   ]
  },
  {
   "cell_type": "code",
   "execution_count": null,
   "id": "008e3e1b-1448-45f5-aa06-35a79992cdac",
   "metadata": {},
   "outputs": [],
   "source": []
  }
 ],
 "metadata": {
  "kernelspec": {
   "display_name": "Python 3 (ipykernel)",
   "language": "python",
   "name": "python3"
  },
  "language_info": {
   "codemirror_mode": {
    "name": "ipython",
    "version": 3
   },
   "file_extension": ".py",
   "mimetype": "text/x-python",
   "name": "python",
   "nbconvert_exporter": "python",
   "pygments_lexer": "ipython3",
   "version": "3.12.7"
  }
 },
 "nbformat": 4,
 "nbformat_minor": 5
}
